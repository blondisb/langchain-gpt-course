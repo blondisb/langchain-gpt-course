{
  "nbformat": 4,
  "nbformat_minor": 0,
  "metadata": {
    "colab": {
      "provenance": []
    },
    "kernelspec": {
      "name": "python3",
      "display_name": "Python 3"
    },
    "language_info": {
      "name": "python"
    }
  },
  "cells": [
    {
      "cell_type": "code",
      "execution_count": null,
      "metadata": {
        "id": "Mvk-g5ZIEGVD"
      },
      "outputs": [],
      "source": [
        "# fail\n",
        "!pip install -r requeriments.txt"
      ]
    },
    {
      "cell_type": "code",
      "source": [
        "!pip install OpenAi\n",
        "!pip install langchain\n",
        "!pip install python-dotenv"
      ],
      "metadata": {
        "id": "CuVGNuxeGXFa"
      },
      "execution_count": null,
      "outputs": []
    },
    {
      "cell_type": "code",
      "source": [
        "import os\n",
        "from dotenv import load_dotenv, find_dotenv\n",
        "from langchain.llms import OpenAI\n",
        "from langchain.prompts import PromptTemplate\n",
        "from langchain.chains import LLMChain, SequentialChain\n",
        "import argparse\n",
        "\n",
        "# Avoid Colab Output srollbar\n",
        "from IPython.display import HTML, display\n",
        "def set_css():\n",
        "  display(HTML('''\n",
        "  <style>\n",
        "    pre {\n",
        "        white-space: pre-wrap;\n",
        "    }\n",
        "  </style>\n",
        "  '''))\n",
        "get_ipython().events.register('pre_run_cell', set_css)"
      ],
      "metadata": {
        "id": "722z7lJjTiSi"
      },
      "execution_count": null,
      "outputs": []
    },
    {
      "cell_type": "code",
      "source": [
        "load_dotenv(find_dotenv(), override=True)\n",
        "os.environ.get('OPENAI_API_KEY')\n",
        "os.environ.get('PINECONE_API_KEY')"
      ],
      "metadata": {
        "id": "nmM9thttJ4wo"
      },
      "execution_count": null,
      "outputs": []
    },
    {
      "cell_type": "code",
      "source": [
        "llm = OpenAI()\n",
        "\n",
        "# llm = OpenAI(\n",
        "#     model_name=\"gpt-3.5-turbo-instruct\",\n",
        "#     temperature = 0.9,\n",
        "#     max_tokens=1024\n",
        "# )"
      ],
      "metadata": {
        "id": "VepobVKfKj5X"
      },
      "execution_count": null,
      "outputs": []
    },
    {
      "cell_type": "code",
      "source": [
        "# res = llm(\"Whos was Hitller\")\n",
        "# print(res)"
      ],
      "metadata": {
        "id": "LRMIVE7bLnuP"
      },
      "execution_count": null,
      "outputs": []
    },
    {
      "cell_type": "markdown",
      "source": [
        "<h3> WHAT'S A CHAIN? </h3>"
      ],
      "metadata": {
        "id": "jaDHWaABUMbM"
      }
    },
    {
      "cell_type": "code",
      "source": [
        "code_prompt = PromptTemplate(\n",
        "    input_variables=[\"languaje\", \"task\"],\n",
        "    template=\"Write a very short {languaje} function that will {task}\"\n",
        ")\n",
        "\n",
        "code_chain = LLMChain(\n",
        "    llm=llm,\n",
        "    prompt=code_prompt,\n",
        "    output_key='code'\n",
        ")"
      ],
      "metadata": {
        "id": "J5oZRr6YUWyW"
      },
      "execution_count": null,
      "outputs": []
    },
    {
      "cell_type": "code",
      "source": [
        "# result = code_chain({\n",
        "#     \"languaje\": \"python\",\n",
        "#     \"task\": \"return a list of numbers\"\n",
        "# })"
      ],
      "metadata": {
        "id": "SviUbvtAYB-c"
      },
      "execution_count": null,
      "outputs": []
    },
    {
      "cell_type": "code",
      "source": [
        "# print(result)\n",
        "# print(result['languaje'])"
      ],
      "metadata": {
        "id": "cx821c4gqRr-"
      },
      "execution_count": null,
      "outputs": []
    },
    {
      "cell_type": "code",
      "source": [
        "# THIS IS FOR RUNNING IN VSCODE, 4EXAMPLE. AND USING CMD\n",
        "# parser =argparse.ArgumentParser()\n",
        "# parser.add_argument(\"--task\", default=\"return a list of numbers\")\n",
        "# parser.add_argument(\"--languaje\", default=\"python\")\n",
        "# args = parser.parse_args()\n",
        "\n",
        "# result = code_chain({\n",
        "#     \"languaje\": args.languaje,\n",
        "#     \"task\": args.task\n",
        "# })\n",
        "\n",
        "# print(result)"
      ],
      "metadata": {
        "id": "QCC59y4lj7Pr"
      },
      "execution_count": null,
      "outputs": []
    },
    {
      "cell_type": "code",
      "source": [
        "# Creating the second chain\n",
        "code_prompt_ch2 = PromptTemplate(\n",
        "    input_variables=[\"languaje\", \"code\"],\n",
        "    template=\"Using unitets, write a test for the following {languaje} code:\\n{code}\"\n",
        ")\n",
        "\n",
        "code_chain2 = LLMChain(\n",
        "    llm=llm,\n",
        "    prompt=code_prompt_ch2,\n",
        "    output_key='test'\n",
        ")"
      ],
      "metadata": {
        "colab": {
          "base_uri": "https://localhost:8080/",
          "height": 17
        },
        "id": "VR5TOkpNkguK",
        "outputId": "53aa28e2-784d-4357-80c4-6f81a49bc4fc"
      },
      "execution_count": null,
      "outputs": [
        {
          "output_type": "display_data",
          "data": {
            "text/plain": [
              "<IPython.core.display.HTML object>"
            ],
            "text/html": [
              "\n",
              "  <style>\n",
              "    pre {\n",
              "        white-space: pre-wrap;\n",
              "    }\n",
              "  </style>\n",
              "  "
            ]
          },
          "metadata": {}
        },
        {
          "output_type": "display_data",
          "data": {
            "text/plain": [
              "<IPython.core.display.HTML object>"
            ],
            "text/html": [
              "\n",
              "  <style>\n",
              "    pre {\n",
              "        white-space: pre-wrap;\n",
              "    }\n",
              "  </style>\n",
              "  "
            ]
          },
          "metadata": {}
        },
        {
          "output_type": "display_data",
          "data": {
            "text/plain": [
              "<IPython.core.display.HTML object>"
            ],
            "text/html": [
              "\n",
              "  <style>\n",
              "    pre {\n",
              "        white-space: pre-wrap;\n",
              "    }\n",
              "  </style>\n",
              "  "
            ]
          },
          "metadata": {}
        }
      ]
    },
    {
      "cell_type": "markdown",
      "source": [
        "*Bloque 53 y 54 no son necesarios con el SequentialChain*"
      ],
      "metadata": {
        "id": "tSgETVgfwOGO"
      }
    },
    {
      "cell_type": "code",
      "source": [
        "# # Out from chain1 is entered in chain2\n",
        "# result_ch2 = code_chain2({\n",
        "#     \"languaje_ch2\": result['languaje'],\n",
        "#     \"code_ch2\": result['code']\n",
        "# })"
      ],
      "metadata": {
        "id": "SZOqEKqiqE77"
      },
      "execution_count": null,
      "outputs": []
    },
    {
      "cell_type": "code",
      "source": [
        "# print(result_ch2)\n",
        "# print()\n",
        "# print(result_ch2['code_ch2'])\n",
        "# print(result_ch2['out'])"
      ],
      "metadata": {
        "id": "K0RAM63ysiaq"
      },
      "execution_count": null,
      "outputs": []
    },
    {
      "cell_type": "markdown",
      "source": [
        "<h3> Sequential Chain </h3>"
      ],
      "metadata": {
        "id": "EdxFVD6Yvts9"
      }
    },
    {
      "cell_type": "code",
      "source": [
        "seq_chain = SequentialChain(\n",
        "    chains = [code_chain, code_chain2],\n",
        "    input_variables = [\"task\", \"languaje\"], # Inputs from 1st chain\n",
        "    output_variables = [\"test\", \"code\"] #Output and input from last chain\n",
        ")\n",
        "\n",
        "final_result = seq_chain({\n",
        "    \"languaje\": \"python\",\n",
        "    \"task\": \"return a list of numbers\"\n",
        "})"
      ],
      "metadata": {
        "colab": {
          "base_uri": "https://localhost:8080/",
          "height": 17
        },
        "id": "fx4LS6gOv4OJ",
        "outputId": "64e9f790-6061-4001-efc9-16300ce3a662"
      },
      "execution_count": null,
      "outputs": [
        {
          "output_type": "display_data",
          "data": {
            "text/plain": [
              "<IPython.core.display.HTML object>"
            ],
            "text/html": [
              "\n",
              "  <style>\n",
              "    pre {\n",
              "        white-space: pre-wrap;\n",
              "    }\n",
              "  </style>\n",
              "  "
            ]
          },
          "metadata": {}
        },
        {
          "output_type": "display_data",
          "data": {
            "text/plain": [
              "<IPython.core.display.HTML object>"
            ],
            "text/html": [
              "\n",
              "  <style>\n",
              "    pre {\n",
              "        white-space: pre-wrap;\n",
              "    }\n",
              "  </style>\n",
              "  "
            ]
          },
          "metadata": {}
        },
        {
          "output_type": "display_data",
          "data": {
            "text/plain": [
              "<IPython.core.display.HTML object>"
            ],
            "text/html": [
              "\n",
              "  <style>\n",
              "    pre {\n",
              "        white-space: pre-wrap;\n",
              "    }\n",
              "  </style>\n",
              "  "
            ]
          },
          "metadata": {}
        }
      ]
    },
    {
      "cell_type": "code",
      "source": [
        "# print(final_result)\n",
        "print()\n",
        "print(final_result['languaje'])\n",
        "print(final_result['code'])\n",
        "print(final_result['test'])"
      ],
      "metadata": {
        "colab": {
          "base_uri": "https://localhost:8080/",
          "height": 309
        },
        "id": "pjpgrlVhxUqI",
        "outputId": "7bcbb68e-1a7e-4fd8-e001-a56a5916db49"
      },
      "execution_count": null,
      "outputs": [
        {
          "output_type": "display_data",
          "data": {
            "text/plain": [
              "<IPython.core.display.HTML object>"
            ],
            "text/html": [
              "\n",
              "  <style>\n",
              "    pre {\n",
              "        white-space: pre-wrap;\n",
              "    }\n",
              "  </style>\n",
              "  "
            ]
          },
          "metadata": {}
        },
        {
          "output_type": "display_data",
          "data": {
            "text/plain": [
              "<IPython.core.display.HTML object>"
            ],
            "text/html": [
              "\n",
              "  <style>\n",
              "    pre {\n",
              "        white-space: pre-wrap;\n",
              "    }\n",
              "  </style>\n",
              "  "
            ]
          },
          "metadata": {}
        },
        {
          "output_type": "display_data",
          "data": {
            "text/plain": [
              "<IPython.core.display.HTML object>"
            ],
            "text/html": [
              "\n",
              "  <style>\n",
              "    pre {\n",
              "        white-space: pre-wrap;\n",
              "    }\n",
              "  </style>\n",
              "  "
            ]
          },
          "metadata": {}
        },
        {
          "output_type": "stream",
          "name": "stdout",
          "text": [
            "\n",
            "python\n",
            "\n",
            "\n",
            "def return_numbers():\n",
            "    return [1, 2, 3, 4, 5]\n",
            "\n",
            "\n",
            "import unittest\n",
            "\n",
            "class TestReturnNumbers(unittest.TestCase):\n",
            "    def test_return_numbers(self):\n",
            "        self.assertEqual(return_numbers(), [1, 2, 3, 4, 5])\n",
            "\n",
            "if __name__ == '__main__':\n",
            "    unittest.main()\n"
          ]
        }
      ]
    }
  ]
}