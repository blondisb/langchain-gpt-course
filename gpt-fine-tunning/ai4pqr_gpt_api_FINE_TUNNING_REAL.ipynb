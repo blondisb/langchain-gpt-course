{
  "cells": [
    {
      "cell_type": "code",
      "execution_count": null,
      "metadata": {
        "colab": {
          "base_uri": "https://localhost:8080/"
        },
        "id": "UdICpBHCabQk",
        "outputId": "94b01eb0-c231-418b-86eb-f9fe92ead43b"
      },
      "outputs": [],
      "source": [
        "# !pip install openai"
      ]
    },
    {
      "cell_type": "code",
      "execution_count": 4,
      "metadata": {
        "id": "LrkSZMRFacbJ"
      },
      "outputs": [],
      "source": [
        "from openai import OpenAI\n",
        "import time\n",
        "import os\n",
        "\n",
        "from dotenv import load_dotenv, find_dotenv\n",
        "load_dotenv(find_dotenv(), override=True)\n",
        "os.environ.get('OPENAI_API_KEY')\n",
        "\n",
        "client = OpenAI()"
      ]
    },
    {
      "cell_type": "code",
      "execution_count": 6,
      "metadata": {
        "colab": {
          "base_uri": "https://localhost:8080/",
          "height": 211
        },
        "id": "rLlXpmSrbR_O",
        "outputId": "9fdaadfb-6340-42e1-b1f2-d3f21a9dbb48"
      },
      "outputs": [
        {
          "data": {
            "text/plain": [
              "FileObject(id='file-GwlHoRLxAtoMHd6pjTAHTZv8', bytes=12567, created_at=1712096253, filename='dataset_tipo_chat.jsonl', object='file', purpose='fine-tune', status='processed', status_details=None)"
            ]
          },
          "execution_count": 6,
          "metadata": {},
          "output_type": "execute_result"
        }
      ],
      "source": [
        "# PARA GPT 3.5\n",
        "client.files.create(\n",
        "  file=open(\"dataset_tipo_chat.jsonl\", \"rb\"),\n",
        "  purpose=\"fine-tune\"\n",
        ")\n",
        "\n",
        "# copy FileObject: id "
      ]
    },
    {
      "cell_type": "code",
      "execution_count": null,
      "metadata": {
        "id": "jDd2aLVhbU1e"
      },
      "outputs": [],
      "source": [
        "client.fine_tuning.jobs.create(\n",
        "  training_file=\"file-mb89yd4wzHtP2GPBKXJl0aBi\",\n",
        "  model=\"gpt-3.5-turbo\"\n",
        ")"
      ]
    },
    {
      "cell_type": "code",
      "execution_count": null,
      "metadata": {
        "id": "CWJcQ4RnbYLx"
      },
      "outputs": [],
      "source": [
        "# List 10 fine-tuning jobs\n",
        "client.fine_tuning.jobs.list(limit=10)\n",
        "\n",
        "# Retrieve the state of a fine-tune\n",
        "client.fine_tuning.jobs.retrieve(\"ftjob-Rib3TN3ct5xh8K3d4J7Z69Pb\")"
      ]
    },
    {
      "cell_type": "code",
      "execution_count": null,
      "metadata": {
        "id": "3BZm0D9sba5x"
      },
      "outputs": [],
      "source": [
        "prompt = \"¿A quienes podra transferir MUEBLES JAMAR S.A. los datos personales segun el parrafo proporcionado?\"\n",
        "\n",
        "# GPT 3.5 TURBO\n",
        "response = client.chat.completions.create(\n",
        "    model=\"gpt-3.5-turbo-0613\",\n",
        "    messages=[\n",
        "        {\"role\": \"system\", \"content\": \"Eres un abogado según las leyes colombianas y representas a la empresa MUEBLES JAMAR S.A.\"},\n",
        "        {\"role\": \"user\", \"content\": \"¿Que de datos se consideran sensibles segun el aviso de MUEBLES JAMAR S.A.?\"}\n",
        "    ]\n",
        ")"
      ]
    },
    {
      "cell_type": "code",
      "execution_count": null,
      "metadata": {
        "colab": {
          "base_uri": "https://localhost:8080/"
        },
        "id": "DO_g25Dvbe7C",
        "outputId": "55a0edf8-05e2-442d-ddf1-802b373d61ab"
      },
      "outputs": [
        {
          "name": "stdout",
          "output_type": "stream",
          "text": [
            "De acuerdo con el Aviso de Privacidad de MUEBLES JAMAR S.A., se consideran datos sensibles los relacionados con la salud, vida sexual, origen racial o étnico, convicciones políticas, religiosas o filosóficas, afiliación sindical y datos biométricos. Estos datos no serán solicitados ni utilizados, a menos que sea estrictamente necesario y se cuente con el consentimiento expreso del titular de los datos.\n"
          ]
        }
      ],
      "source": [
        "print(response.choices[0].message.content.strip())"
      ]
    }
  ],
  "metadata": {
    "colab": {
      "provenance": []
    },
    "kernelspec": {
      "display_name": "Python 3",
      "name": "python3"
    },
    "language_info": {
      "codemirror_mode": {
        "name": "ipython",
        "version": 3
      },
      "file_extension": ".py",
      "mimetype": "text/x-python",
      "name": "python",
      "nbconvert_exporter": "python",
      "pygments_lexer": "ipython3",
      "version": "3.11.0"
    }
  },
  "nbformat": 4,
  "nbformat_minor": 0
}
