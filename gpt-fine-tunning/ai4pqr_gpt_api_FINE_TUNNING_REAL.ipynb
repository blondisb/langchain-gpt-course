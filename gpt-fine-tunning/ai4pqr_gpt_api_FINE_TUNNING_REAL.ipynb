{
  "cells": [
    {
      "cell_type": "code",
      "execution_count": null,
      "metadata": {
        "colab": {
          "base_uri": "https://localhost:8080/"
        },
        "id": "UdICpBHCabQk",
        "outputId": "94b01eb0-c231-418b-86eb-f9fe92ead43b"
      },
      "outputs": [],
      "source": [
        "# !pip install openai"
      ]
    },
    {
      "cell_type": "code",
      "execution_count": 23,
      "metadata": {
        "id": "LrkSZMRFacbJ"
      },
      "outputs": [
        {
          "name": "stdout",
          "output_type": "stream",
          "text": [
            "Error in callback <function set_css at 0x0000016DDE304EA0> (for pre_run_cell), with arguments args (<ExecutionInfo object at 16ddf607610, raw_cell=\"from openai import OpenAI\n",
            "import time\n",
            "import os\n",
            "\n",
            "#..\" store_history=True silent=False shell_futures=True cell_id=vscode-notebook-cell:/c%3A/Users/blbarrios/OneDrive%20-%20Muebles%20Jamar/Documentos/2024/Claims%20IA/Repo/langchain-gpt-course/gpt-fine-tunning/ai4pqr_gpt_api_FINE_TUNNING_REAL.ipynb#W1sZmlsZQ%3D%3D>,),kwargs {}:\n"
          ]
        },
        {
          "ename": "TypeError",
          "evalue": "set_css() takes 0 positional arguments but 1 was given",
          "output_type": "error",
          "traceback": [
            "\u001b[1;31m---------------------------------------------------------------------------\u001b[0m",
            "\u001b[1;31mTypeError\u001b[0m                                 Traceback (most recent call last)",
            "\u001b[1;31mTypeError\u001b[0m: set_css() takes 0 positional arguments but 1 was given"
          ]
        }
      ],
      "source": [
        "from openai import OpenAI\n",
        "import time\n",
        "import os\n",
        "\n",
        "# # Avoid Colab Output srollbar\n",
        "# from IPython.display import HTML, display\n",
        "# def set_css():\n",
        "#   display(HTML('''\n",
        "#   <style>\n",
        "#     pre {\n",
        "#         white-space: pre-wrap;\n",
        "#     }\n",
        "#   </style>\n",
        "#   '''))\n",
        "# get_ipython().events.register('pre_run_cell', set_css)\n",
        "\n",
        "from dotenv import load_dotenv, find_dotenv\n",
        "load_dotenv(find_dotenv(), override=True)\n",
        "os.environ.get('OPENAI_API_KEY')\n",
        "\n",
        "client = OpenAI()"
      ]
    },
    {
      "cell_type": "code",
      "execution_count": 8,
      "metadata": {
        "colab": {
          "base_uri": "https://localhost:8080/",
          "height": 211
        },
        "id": "rLlXpmSrbR_O",
        "outputId": "9fdaadfb-6340-42e1-b1f2-d3f21a9dbb48"
      },
      "outputs": [
        {
          "data": {
            "text/plain": [
              "FileObject(id='file-ZbYTVtZuN7kqWR2dxdsjHLEJ', bytes=53128, created_at=1712162017, filename='dataset_tipo_chat.jsonl', object='file', purpose='fine-tune', status='processed', status_details=None)"
            ]
          },
          "execution_count": 8,
          "metadata": {},
          "output_type": "execute_result"
        }
      ],
      "source": [
        "# PARA GPT 3.5\n",
        "client.files.create(\n",
        "  file=open(\"dataset_tipo_chat.jsonl\", \"rb\"),\n",
        "  purpose=\"fine-tune\"\n",
        ")\n",
        "\n",
        "# copy FileObject: id  file-ZbYTVtZuN7kqWR2dxdsjHLEJ\n",
        "\"\"\"_summary_\n",
        "FileObject(id='file-ZbYTVtZuN7kqWR2dxdsjHLEJ', bytes=53128, created_at=1712162017, \n",
        "filename='dataset_tipo_chat.jsonl', object='file', \n",
        "purpose='fine-tune', status='processed', status_details=None)\n",
        "\n",
        "\"\"\""
      ]
    },
    {
      "cell_type": "code",
      "execution_count": 11,
      "metadata": {
        "id": "jDd2aLVhbU1e"
      },
      "outputs": [
        {
          "data": {
            "text/plain": [
              "FineTuningJob(id='ftjob-VJndD2YZn67uAZ7jmzfJiDUf', created_at=1712162092, error=Error(code=None, message=None, param=None, error=None), fine_tuned_model=None, finished_at=None, hyperparameters=Hyperparameters(n_epochs='auto', batch_size='auto', learning_rate_multiplier='auto'), model='gpt-3.5-turbo-0125', object='fine_tuning.job', organization_id='org-DgvJxzPANr47Qel8rVy57OZI', result_files=[], status='validating_files', trained_tokens=None, training_file='file-ZbYTVtZuN7kqWR2dxdsjHLEJ', validation_file=None, user_provided_suffix=None, seed=1353640221)"
            ]
          },
          "execution_count": 11,
          "metadata": {},
          "output_type": "execute_result"
        }
      ],
      "source": [
        "client.fine_tuning.jobs.create(\n",
        "  training_file=\"file-ZbYTVtZuN7kqWR2dxdsjHLEJ\",\n",
        "  model=\"gpt-3.5-turbo\"\n",
        ")\n",
        "\n",
        "# FineTuningJob(id='ftjob-VJndD2YZn67uAZ7jmzfJiDUf'\n",
        "\"\"\"\n",
        "  FineTuningJob(id='ftjob-VJndD2YZn67uAZ7jmzfJiDUf', created_at=1712162092, error=Error(code=None, message=None, param=None, error=None),\n",
        "  fine_tuned_model=None, finished_at=None, hyperparameters=Hyperparameters(n_epochs='auto', batch_size='auto', learning_rate_multiplier='auto'),\n",
        "  model='gpt-3.5-turbo-0125', object='fine_tuning.job', organization_id='org-DgvJxzPANr47Qel8rVy57OZI', result_files=[], status='validating_files', \n",
        "  trained_tokens=None, training_file='file-ZbYTVtZuN7kqWR2dxdsjHLEJ', validation_file=None, user_provided_suffix=None, seed=1353640221)\n",
        "\n",
        "\"\"\""
      ]
    },
    {
      "cell_type": "code",
      "execution_count": 37,
      "metadata": {
        "id": "CWJcQ4RnbYLx"
      },
      "outputs": [
        {
          "name": "stdout",
          "output_type": "stream",
          "text": [
            "Error in callback <function set_css at 0x0000016DDE304EA0> (for pre_run_cell), with arguments args (<ExecutionInfo object at 16ddf3df650, raw_cell=\"# List 10 fine-tuning jobs\n",
            "client.fine_tuning.jobs..\" store_history=True silent=False shell_futures=True cell_id=vscode-notebook-cell:/c%3A/Users/blbarrios/OneDrive%20-%20Muebles%20Jamar/Documentos/2024/Claims%20IA/Repo/langchain-gpt-course/gpt-fine-tunning/ai4pqr_gpt_api_FINE_TUNNING_REAL.ipynb#W4sZmlsZQ%3D%3D>,),kwargs {}:\n"
          ]
        },
        {
          "ename": "TypeError",
          "evalue": "set_css() takes 0 positional arguments but 1 was given",
          "output_type": "error",
          "traceback": [
            "\u001b[1;31m---------------------------------------------------------------------------\u001b[0m",
            "\u001b[1;31mTypeError\u001b[0m                                 Traceback (most recent call last)",
            "\u001b[1;31mTypeError\u001b[0m: set_css() takes 0 positional arguments but 1 was given"
          ]
        },
        {
          "data": {
            "text/plain": [
              "\"_summary_\\nFineTuningJob(id='ftjob-VJndD2YZn67uAZ7jmzfJiDUf', created_at=1712162092, error=Error(code=None, message=None, param=None, error=None),\\nfine_tuned_model=None, finished_at=None, hyperparameters=Hyperparameters(n_epochs=3, batch_size=1, learning_rate_multiplier=2),\\nmodel='gpt-3.5-turbo-0125', object='fine_tuning.job', organization_id='org-DgvJxzPANr47Qel8rVy57OZI', result_files=[], status='running', trained_tokens=None, training_file='file-ZbYTVtZuN7kqWR2dxdsjHLEJ', validation_file=None, user_provided_suffix=None, seed=1353640221)\\n\""
            ]
          },
          "execution_count": 37,
          "metadata": {},
          "output_type": "execute_result"
        }
      ],
      "source": [
        "# List 10 fine-tuning jobs\n",
        "client.fine_tuning.jobs.list(limit=10)\n",
        "\n",
        "# Retrieve the state of a fine-tune\n",
        "client.fine_tuning.jobs.retrieve(\"ftjob-VJndD2YZn67uAZ7jmzfJiDUf\")\n",
        "\n",
        "\"\"\"_summary_\n",
        "FineTuningJob(id='ftjob-VJndD2YZn67uAZ7jmzfJiDUf', created_at=1712162092, error=Error(code=None, message=None, param=None, error=None),\n",
        "fine_tuned_model=None, finished_at=None, hyperparameters=Hyperparameters(n_epochs=3, batch_size=1, learning_rate_multiplier=2),\n",
        "model='gpt-3.5-turbo-0125', object='fine_tuning.job', organization_id='org-DgvJxzPANr47Qel8rVy57OZI', result_files=[], status='running', trained_tokens=None, training_file='file-ZbYTVtZuN7kqWR2dxdsjHLEJ', validation_file=None, user_provided_suffix=None, seed=1353640221)\n",
        "\"\"\""
      ]
    },
    {
      "cell_type": "code",
      "execution_count": 48,
      "metadata": {
        "id": "3BZm0D9sba5x"
      },
      "outputs": [
        {
          "name": "stdout",
          "output_type": "stream",
          "text": [
            "Error in callback <function set_css at 0x0000016DDE304EA0> (for pre_run_cell), with arguments args (<ExecutionInfo object at 16ddfaaf250, raw_cell=\"# prompt = \"¿Que de datos se consideran sensibles ..\" store_history=True silent=False shell_futures=True cell_id=vscode-notebook-cell:/c%3A/Users/blbarrios/OneDrive%20-%20Muebles%20Jamar/Documentos/2024/Claims%20IA/Repo/langchain-gpt-course/gpt-fine-tunning/ai4pqr_gpt_api_FINE_TUNNING_REAL.ipynb#W5sZmlsZQ%3D%3D>,),kwargs {}:\n"
          ]
        },
        {
          "ename": "TypeError",
          "evalue": "set_css() takes 0 positional arguments but 1 was given",
          "output_type": "error",
          "traceback": [
            "\u001b[1;31m---------------------------------------------------------------------------\u001b[0m",
            "\u001b[1;31mTypeError\u001b[0m                                 Traceback (most recent call last)",
            "\u001b[1;31mTypeError\u001b[0m: set_css() takes 0 positional arguments but 1 was given"
          ]
        }
      ],
      "source": [
        "# prompt = \"¿Que de datos se consideran sensibles segun el aviso de MUEBLES JAMAR S.A.?\"\n",
        "# prompt = \"¿A quienes podra transferir MUEBLES JAMAR S.A. los datos personales segun el parrafo proporcionado?\"\n",
        "# prompt = \"Informarme a cuál o cuales centrales de riesgo reporta su entidad mi información crediticia\"\n",
        "# prompt = \"Quiero saber a qué centrales de riesgo reporta mi información crediticia su entidad.\"\n",
        "prompt = \"cuales son las centrales de riesgo donde reporta mi información crediticia su entidad\"\n",
        "prompt = \"¿Por qué MUEBLES JAMAR S.A. proporciona un aviso de privacidad?\"\n",
        "prompt = \"¿Cuál es la dirección proporcionada por MUEBLES JAMAR S.A. para efectos del aviso de privacidad?\"\n",
        "\n",
        "# GPT 3.5 TURBO\n",
        "response = client.chat.completions.create(\n",
        "    # model=\"gpt-3.5-turbo-0613\",\n",
        "    model=\"gpt-3.5-turbo-0125\",\n",
        "    messages=[\n",
        "        {\"role\": \"system\", \"content\": \"\"},\n",
        "        {\"role\": \"user\", \"content\": prompt}\n",
        "    ]\n",
        ")"
      ]
    },
    {
      "cell_type": "code",
      "execution_count": 49,
      "metadata": {
        "colab": {
          "base_uri": "https://localhost:8080/"
        },
        "id": "DO_g25Dvbe7C",
        "outputId": "55a0edf8-05e2-442d-ddf1-802b373d61ab"
      },
      "outputs": [
        {
          "name": "stdout",
          "output_type": "stream",
          "text": [
            "Error in callback <function set_css at 0x0000016DDE304EA0> (for pre_run_cell), with arguments args (<ExecutionInfo object at 16ddf4bd710, raw_cell=\"print(response.choices[0].message.content.strip())\" store_history=True silent=False shell_futures=True cell_id=vscode-notebook-cell:/c%3A/Users/blbarrios/OneDrive%20-%20Muebles%20Jamar/Documentos/2024/Claims%20IA/Repo/langchain-gpt-course/gpt-fine-tunning/ai4pqr_gpt_api_FINE_TUNNING_REAL.ipynb#W6sZmlsZQ%3D%3D>,),kwargs {}:\n"
          ]
        },
        {
          "ename": "TypeError",
          "evalue": "set_css() takes 0 positional arguments but 1 was given",
          "output_type": "error",
          "traceback": [
            "\u001b[1;31m---------------------------------------------------------------------------\u001b[0m",
            "\u001b[1;31mTypeError\u001b[0m                                 Traceback (most recent call last)",
            "\u001b[1;31mTypeError\u001b[0m: set_css() takes 0 positional arguments but 1 was given"
          ]
        },
        {
          "name": "stdout",
          "output_type": "stream",
          "text": [
            "La dirección proporcionada por MUEBLES JAMAR S.A. para efectos del aviso de privacidad es: Av. Cll 186 No. 100-18 Interior 101, Bogotá, Colombia.\n"
          ]
        }
      ],
      "source": [
        "print(response.choices[0].message.content.strip())"
      ]
    }
  ],
  "metadata": {
    "colab": {
      "provenance": []
    },
    "kernelspec": {
      "display_name": "Python 3",
      "name": "python3"
    },
    "language_info": {
      "codemirror_mode": {
        "name": "ipython",
        "version": 3
      },
      "file_extension": ".py",
      "mimetype": "text/x-python",
      "name": "python",
      "nbconvert_exporter": "python",
      "pygments_lexer": "ipython3",
      "version": "3.11.0"
    }
  },
  "nbformat": 4,
  "nbformat_minor": 0
}
